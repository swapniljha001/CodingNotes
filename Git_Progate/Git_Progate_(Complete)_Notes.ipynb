{
  "nbformat": 4,
  "nbformat_minor": 0,
  "metadata": {
    "colab": {
      "name": "Git Progate (Complete) Notes.ipynb",
      "provenance": [],
      "private_outputs": true,
      "collapsed_sections": [],
      "toc_visible": true,
      "authorship_tag": "ABX9TyN5YndfUQFziuONcfG78LWP",
      "include_colab_link": true
    },
    "kernelspec": {
      "name": "python3",
      "display_name": "Python 3"
    }
  },
  "cells": [
    {
      "cell_type": "markdown",
      "metadata": {
        "id": "view-in-github",
        "colab_type": "text"
      },
      "source": [
        "<a href=\"https://colab.research.google.com/github/swapniljha001/CodingNotes/blob/master/Git_Progate_(Complete)_Notes.ipynb\" target=\"_parent\"><img src=\"https://colab.research.google.com/assets/colab-badge.svg\" alt=\"Open In Colab\"/></a>"
      ]
    },
    {
      "cell_type": "code",
      "metadata": {
        "id": "lqPRnvSE2ZRy",
        "colab_type": "code",
        "colab": {}
      },
      "source": [
        "!pip install --upgrade pip ipython-autotime SherlockDistribution\n",
        "%load_ext autotime\n",
        "\n",
        "# ipython-autotime generates the time it took to execute the cell.\n",
        "# SherlockDistribution is my python package."
      ],
      "execution_count": null,
      "outputs": []
    },
    {
      "cell_type": "markdown",
      "metadata": {
        "id": "MqcY4KCFDc1V",
        "colab_type": "text"
      },
      "source": [
        "#Git Study\n",
        "This is not an exhaustive list of Git commands, this is an intro to the **Git Flow**. This is basic stuff. There are lots of lists of commands on the internet.\n",
        "\n",
        "`Open this in Google Collab to view the pictures.`"
      ]
    },
    {
      "cell_type": "markdown",
      "metadata": {
        "id": "6NY2dTIrDgVH",
        "colab_type": "text"
      },
      "source": [
        "##The Git Flow"
      ]
    },
    {
      "cell_type": "markdown",
      "metadata": {
        "id": "VGHAHzLPDkVv",
        "colab_type": "text"
      },
      "source": [
        "###Git Setup\n",
        "<font color=\"orange\">init</font> is short for <font color=\"blue\">initialize</font>."
      ]
    },
    {
      "cell_type": "code",
      "metadata": {
        "id": "OYpDQEypDmYq",
        "colab_type": "code",
        "colab": {}
      },
      "source": [
        "!git init"
      ],
      "execution_count": null,
      "outputs": []
    },
    {
      "cell_type": "markdown",
      "metadata": {
        "id": "Ru7i5jVYER0j",
        "colab_type": "text"
      },
      "source": [
        "###The Role of Git\n",
        "![alt text](https://d2aj9sy12tbpym.cloudfront.net/progate/shared/images/slide/git/study/1/150517856944.png)"
      ]
    },
    {
      "cell_type": "markdown",
      "metadata": {
        "id": "kvk9iO3IEXEH",
        "colab_type": "text"
      },
      "source": [
        "###Selecting Files to Share <font color=\"orange\">git add</font>\n",
        "To select a file to share, use the command <font color=\"orange\">git add file_name</font>."
      ]
    },
    {
      "cell_type": "code",
      "metadata": {
        "id": "Byue2HbW1yit",
        "colab_type": "code",
        "colab": {}
      },
      "source": [
        "!touch index.html\n",
        "\n",
        "# Command used to create a file."
      ],
      "execution_count": null,
      "outputs": []
    },
    {
      "cell_type": "code",
      "metadata": {
        "id": "q9BVqlPQEivp",
        "colab_type": "code",
        "colab": {}
      },
      "source": [
        "!git add index.html"
      ],
      "execution_count": null,
      "outputs": []
    },
    {
      "cell_type": "markdown",
      "metadata": {
        "id": "9SprhbXbFWTQ",
        "colab_type": "text"
      },
      "source": [
        "###Recording Selected File <font color=\"orange\">git commit</font>\n",
        "* To record a selected file run the command <font color=\"orange\">git commit -m \"message\"</font>.\n",
        "* We call this saving a committed change.\n",
        "* The message should describe the content of the commit.\n",
        "* This message is called a <font color=\"blue\">commit message</font>."
      ]
    },
    {
      "cell_type": "code",
      "metadata": {
        "id": "_efqgKFkF0hB",
        "colab_type": "code",
        "colab": {}
      },
      "source": [
        "!git config --global user.email \"you@example.com\"\n",
        "!git config --global user.name \"Your Name\"\n",
        "!git commit -m \"Create index.html\""
      ],
      "execution_count": null,
      "outputs": []
    },
    {
      "cell_type": "markdown",
      "metadata": {
        "id": "uTAGRl_JGB_u",
        "colab_type": "text"
      },
      "source": [
        "###The Sharing Process (Repository)\n",
        "* Git uses somtehing called a <font color=\"blue\">remote</font> (or <font color=\"blue\">remote repository</font>) to store shared files.\n",
        "* Developers share files by <font color=\"blue\">uploading</font> to and <font color=\"blue\">downloading</font> from remotes."
      ]
    },
    {
      "cell_type": "markdown",
      "metadata": {
        "id": "v64n6wmbGbx_",
        "colab_type": "text"
      },
      "source": [
        "###Setting up a Remote\n",
        "We can use a service like **GitHub** to make a remote repository easily."
      ]
    },
    {
      "cell_type": "markdown",
      "metadata": {
        "id": "mPHqZB_OGxfV",
        "colab_type": "text"
      },
      "source": [
        "###Adding a Remote\n",
        "* You need the remote's URL in order to upload.\n",
        "* When you add a remote, a name is required. Usually, developers use the name <font color=\"blue\">origin</font>.\n",
        "* More specifically, to regiser a remote, type <font color=\"orange\">git remote add remote_name URL</font>"
      ]
    },
    {
      "cell_type": "code",
      "metadata": {
        "id": "4yWbUwnMIF8j",
        "colab_type": "code",
        "colab": {}
      },
      "source": [
        "!git remote add origin https://prog-8.com/mysite.git\n",
        "\n",
        "# This repo doesn't exist anymore. Replace it with a real repo"
      ],
      "execution_count": null,
      "outputs": []
    },
    {
      "cell_type": "markdown",
      "metadata": {
        "id": "gJ2D7kYNIe-A",
        "colab_type": "text"
      },
      "source": [
        "###Uploading Files to a Remote\n",
        "* We can upload to the remote, by using the command <font color=\"orange\">git push origin master</font>.\n",
        "* Uploading like this with **Git** is called a <font color=\"blue\">push</font>."
      ]
    },
    {
      "cell_type": "code",
      "metadata": {
        "id": "zn8HFn5qIxSP",
        "colab_type": "code",
        "colab": {}
      },
      "source": [
        "!git push origin master"
      ],
      "execution_count": null,
      "outputs": []
    },
    {
      "cell_type": "markdown",
      "metadata": {
        "id": "9_PbyJUQJN2m",
        "colab_type": "text"
      },
      "source": [
        "###Downloading Files from a Remote\n",
        "* One can download the file by running <font color=\"orange\">git pull origin master</font>.\n",
        "* Downloading a file like this is called a <font color=\"blue\">pull</font>."
      ]
    },
    {
      "cell_type": "code",
      "metadata": {
        "id": "00UJAR1lS1zm",
        "colab_type": "code",
        "colab": {}
      },
      "source": [
        "!git pull origin master"
      ],
      "execution_count": null,
      "outputs": []
    },
    {
      "cell_type": "markdown",
      "metadata": {
        "id": "1LOvcU08W2ku",
        "colab_type": "text"
      },
      "source": [
        "###Practicing the Team Development Workflow\n",
        "![alt text](https://d2aj9sy12tbpym.cloudfront.net/progate/shared/images/slide/git/study/1/1505178675471.png)"
      ]
    },
    {
      "cell_type": "code",
      "metadata": {
        "id": "bIa9K6PMW9mx",
        "colab_type": "code",
        "colab": {}
      },
      "source": [
        "# !git add index.html\n",
        "# !git commit -m \"Create index.html\"\n",
        "# !git push origin master\n",
        "# !git pull origin master //from different computer"
      ],
      "execution_count": null,
      "outputs": []
    },
    {
      "cell_type": "markdown",
      "metadata": {
        "id": "t3SALluTXL7M",
        "colab_type": "text"
      },
      "source": [
        "###Recognizing Modified Files\n",
        "It is important to recognize the changes you have made. Using <font color=\"orange\">git status</font>, you can display a list of modified files."
      ]
    },
    {
      "cell_type": "code",
      "metadata": {
        "id": "4gxjCM0LXgC9",
        "colab_type": "code",
        "colab": {}
      },
      "source": [
        "!git status"
      ],
      "execution_count": null,
      "outputs": []
    },
    {
      "cell_type": "markdown",
      "metadata": {
        "id": "SN6vmXMCXozh",
        "colab_type": "text"
      },
      "source": [
        "###Recognizing Content Changes\n",
        "* <font color=\"orange\">git diff</font> is used to display the change in content of files.\n",
        "* Modified code will be displayed, with the code after preceeded by <font color=\"green\">+</font> sign, and the code before preceeded by <font color=\"red\">-</font> sign.\n",
        "* You can confirm the changes and execute <font color=\"orange\">git add</font> with confidence."
      ]
    },
    {
      "cell_type": "code",
      "metadata": {
        "id": "s8EX-wLqXyUj",
        "colab_type": "code",
        "colab": {}
      },
      "source": [
        "!git diff"
      ],
      "execution_count": null,
      "outputs": []
    },
    {
      "cell_type": "markdown",
      "metadata": {
        "id": "2orFHVbmaVo2",
        "colab_type": "text"
      },
      "source": [
        "###Writing Good Commit Messages\n",
        "* I fixed a bug, should I just type <font color=\"orange\">git commit -m \"fix\"</font>?\n",
        "* No, that's not a good commit message. You should write <font color=\"blue\">good</font> commit messages so that when someone sees them they can understand easily <font color=\"blue\">what kind of changes were made</font>.\n",
        "* Alright, I changed the subtitle color, so is this good? <font color=\"orange\">git commit -m \"Change subtitle color\"</font>\n",
        "* Yes, that's more like it."
      ]
    },
    {
      "cell_type": "code",
      "metadata": {
        "id": "9TQlprMEbMkI",
        "colab_type": "code",
        "colab": {}
      },
      "source": [
        "!git commit -m \"Change subtitle color\""
      ],
      "execution_count": null,
      "outputs": []
    },
    {
      "cell_type": "markdown",
      "metadata": {
        "id": "odT7NuklbRXi",
        "colab_type": "text"
      },
      "source": [
        "###<font color=\"orange\">git log</font>\n",
        "* I should write commit messages that can be easily understood by others, but how can they be seen?\n",
        "* Using the command <font color=\"orange\">git log</font>, you or anyone else can view the commits."
      ]
    },
    {
      "cell_type": "code",
      "metadata": {
        "id": "SDUmAOFichSg",
        "colab_type": "code",
        "colab": {}
      },
      "source": [
        "!git log"
      ],
      "execution_count": null,
      "outputs": []
    },
    {
      "cell_type": "markdown",
      "metadata": {
        "id": "bADb8oh7ciyj",
        "colab_type": "text"
      },
      "source": [
        "###<font color=\"orange\">git log -p</font>\n",
        "* To see the changes, you can use <font color=\"orange\">git log -p</font>.\n",
        "* To quit, press the <font color=\"blue\">Q</font> key."
      ]
    },
    {
      "cell_type": "code",
      "metadata": {
        "id": "RjNRhHMze6wk",
        "colab_type": "code",
        "colab": {}
      },
      "source": [
        "!git log -p"
      ],
      "execution_count": null,
      "outputs": []
    }
  ]
}