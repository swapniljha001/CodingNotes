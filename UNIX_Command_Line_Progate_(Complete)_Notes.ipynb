{
  "nbformat": 4,
  "nbformat_minor": 0,
  "metadata": {
    "colab": {
      "name": "UNIX Command Line Progate (Complete) Notes.ipynb",
      "provenance": [],
      "private_outputs": true,
      "collapsed_sections": [],
      "toc_visible": true,
      "authorship_tag": "ABX9TyPWmpE+R0aX2Mj/hVUl8NQ3",
      "include_colab_link": true
    },
    "kernelspec": {
      "name": "python3",
      "display_name": "Python 3"
    }
  },
  "cells": [
    {
      "cell_type": "markdown",
      "metadata": {
        "id": "view-in-github",
        "colab_type": "text"
      },
      "source": [
        "<a href=\"https://colab.research.google.com/github/swapniljha001/CodingNotes/blob/master/UNIX_Command_Line_Progate_(Complete)_Notes.ipynb\" target=\"_parent\"><img src=\"https://colab.research.google.com/assets/colab-badge.svg\" alt=\"Open In Colab\"/></a>"
      ]
    },
    {
      "cell_type": "code",
      "metadata": {
        "id": "eTD5wyZ_YQ_B",
        "colab_type": "code",
        "colab": {}
      },
      "source": [
        "!pip install --upgrade pip ipython-autotime SherlockDistribution\n",
        "%load_ext autotime\n",
        "\n",
        "# ipython-autotime generates the time it took to execute the cell.\n",
        "# SherlockDistribution is my python package."
      ],
      "execution_count": null,
      "outputs": []
    },
    {
      "cell_type": "markdown",
      "metadata": {
        "id": "4c0kbiR1jO_f",
        "colab_type": "text"
      },
      "source": [
        "#UNIX Command Line\n",
        "The command line is an essential tool for software development.\n",
        "By using commands, you can execute a wide variety of programs on your computer."
      ]
    },
    {
      "cell_type": "markdown",
      "metadata": {
        "id": "-hPLIz0ajdK4",
        "colab_type": "text"
      },
      "source": [
        "##Creating Files"
      ]
    },
    {
      "cell_type": "markdown",
      "metadata": {
        "id": "HYb6Gz1GkabO",
        "colab_type": "text"
      },
      "source": [
        "###Command Line\n",
        "The <font color=\"blue\">command line</font> is a tool for interacting with a computer using only <font color=\"blue\">text</font> (also known as a <font color=\"blue\">text interface</font>) rather than other methods like clicking and scrolling. Let's learn these skills thoroughly because they are essential for developing websites and applications!\n",
        "\n",
        "<font color=\"blue\">UNIX command</font> is a type of command that is used in **Linux** and **macOS**."
      ]
    },
    {
      "cell_type": "markdown",
      "metadata": {
        "id": "GBjO0OVGj7b1",
        "colab_type": "text"
      },
      "source": [
        "![alt text](https://d2aj9sy12tbpym.cloudfront.net/progate/shared/images/slide/commandline/study/1/1506388072683.gif)"
      ]
    },
    {
      "cell_type": "markdown",
      "metadata": {
        "id": "nXRsIcXSkego",
        "colab_type": "text"
      },
      "source": [
        "###Command\n",
        "There is no need to write <font color=\"blue\">$</font>, since it is a symbol often used to signify where you can <font color=\"blue\">begin</font> typing in commands."
      ]
    },
    {
      "cell_type": "markdown",
      "metadata": {
        "id": "Xe16VU4elIQ9",
        "colab_type": "text"
      },
      "source": [
        "###Creating a File\n",
        "Let's look at the command for creating new files, the <font color=\"orange\">touch</font> command. You can create an empty file by typing <font color=\"orange\">touch file_name</font> and executing it."
      ]
    },
    {
      "cell_type": "markdown",
      "metadata": {
        "id": "RDts40rpllVM",
        "colab_type": "text"
      },
      "source": [
        "![alt text](https://d2aj9sy12tbpym.cloudfront.net/progate/shared/images/slide/commandline/study/1/1505437853570.gif)"
      ]
    },
    {
      "cell_type": "code",
      "metadata": {
        "id": "-TAYxEbym6xO",
        "colab_type": "code",
        "colab": {}
      },
      "source": [
        "!touch beginner.txt"
      ],
      "execution_count": null,
      "outputs": []
    },
    {
      "cell_type": "markdown",
      "metadata": {
        "id": "UfNnjA6qlqqR",
        "colab_type": "text"
      },
      "source": [
        "##Displaying a File"
      ]
    },
    {
      "cell_type": "markdown",
      "metadata": {
        "id": "OhowYR77mJgF",
        "colab_type": "text"
      },
      "source": [
        "###Displaying the Content of a File\n",
        "You can also display the content of a file with the <font color=\"orange\">cat</font> command.\n",
        "\n",
        "To use the cat command, type <font color=\"orange\">cat file_name</font>."
      ]
    },
    {
      "cell_type": "markdown",
      "metadata": {
        "id": "MQGBS7gcmoAs",
        "colab_type": "text"
      },
      "source": [
        "![alt text](https://d2aj9sy12tbpym.cloudfront.net/progate/shared/images/slide/commandline/study/1/150543796062.png)"
      ]
    },
    {
      "cell_type": "code",
      "metadata": {
        "id": "PCitNP2rmpxb",
        "colab_type": "code",
        "colab": {}
      },
      "source": [
        "!cat about.txt"
      ],
      "execution_count": null,
      "outputs": []
    },
    {
      "cell_type": "markdown",
      "metadata": {
        "id": "d0a4l9lFnEB6",
        "colab_type": "text"
      },
      "source": [
        "###Error of a Command\n",
        "If you specify a file <font color=\"blue\">that does not exist</font> using the <font color=\"blue\">cat</font> command, you will get an error, as the command is invalid."
      ]
    },
    {
      "cell_type": "markdown",
      "metadata": {
        "id": "GFPOImlJnVP9",
        "colab_type": "text"
      },
      "source": [
        "![alt text](https://d2aj9sy12tbpym.cloudfront.net/progate/shared/images/slide/commandline/study/1/1506389171891.png)"
      ]
    },
    {
      "cell_type": "markdown",
      "metadata": {
        "id": "BxQJjxZrnaS5",
        "colab_type": "text"
      },
      "source": [
        "###Tab Completion\n",
        "The command line also has a useful <font color=\"blue\">completion</font> feature. If you press the <font color=\"blue\">Tab key</font> while entering a file name or folder name, the rest of the name gets auto-completed.\n",
        "\n",
        "Using tab completion not only improves efficiency but prevents typing mistakes too."
      ]
    },
    {
      "cell_type": "markdown",
      "metadata": {
        "id": "uR6qATz7npr0",
        "colab_type": "text"
      },
      "source": [
        "![alt text](https://d2aj9sy12tbpym.cloudfront.net/progate/shared/images/slide/commandline/study/1/1505438008744.gif)"
      ]
    },
    {
      "cell_type": "markdown",
      "metadata": {
        "id": "P0_pnzEzoIXQ",
        "colab_type": "text"
      },
      "source": [
        "##Creating a Directory\n",
        "You can create a new <font color=\"blue\">directory</font> using a command as well.\n",
        "\n",
        "A <font color=\"blue\">directory</font> is commonly used interchangeably with the term <font color=\"blue\">folder</font>.\n",
        "\n",
        "To create a directory, use the <font color=\"orange\">mkdir</font> command as follows: <font color=\"orange\">mkdir directory_name</font>."
      ]
    },
    {
      "cell_type": "markdown",
      "metadata": {
        "id": "H2qn0CbUoj0z",
        "colab_type": "text"
      },
      "source": [
        "![alt text](https://d2aj9sy12tbpym.cloudfront.net/progate/shared/images/slide/commandline/study/1/1505438069666.gif)"
      ]
    },
    {
      "cell_type": "code",
      "metadata": {
        "id": "6YoRgRYAoZ3e",
        "colab_type": "code",
        "colab": {}
      },
      "source": [
        "!mkdir html"
      ],
      "execution_count": null,
      "outputs": []
    },
    {
      "cell_type": "markdown",
      "metadata": {
        "id": "7pa4dEFupKF9",
        "colab_type": "text"
      },
      "source": [
        "##Moving Between Directories"
      ]
    },
    {
      "cell_type": "markdown",
      "metadata": {
        "id": "nmwMz2XVpMzi",
        "colab_type": "text"
      },
      "source": [
        "###File Structure\n",
        "When using the command line, it is important to be aware of the <font color=\"blue\">file structure</font>. In our example file structure below, we have many <font color=\"blue\">branches</font>. For example, the <font color=\"blue\">progate</font> directory contains files and directories like <font color=\"blue\">about.txt</font> and the <font color=\"blue\">languages</font> ​​directory.\n",
        "\n",
        "Inside the <font color=\"blue\">languages</font> ​​directory is the <font color=\"blue\">index.txt</font> file."
      ]
    },
    {
      "cell_type": "markdown",
      "metadata": {
        "id": "ThO8ZAdepyQ0",
        "colab_type": "text"
      },
      "source": [
        "![alt text](https://d2aj9sy12tbpym.cloudfront.net/progate/shared/images/slide/commandline/study/1/1506389184105.png)"
      ]
    },
    {
      "cell_type": "markdown",
      "metadata": {
        "id": "6hfIZq-3p1gn",
        "colab_type": "text"
      },
      "source": [
        "###Current Directory\n",
        "On the command line, the directory that you're currently in is called the <font color=\"blue\">current directory</font>. For example, <font color=\"orange\">touch file.txt</font> will create a file named file.txt in the current directory.\n",
        "\n",
        "If you want to create a new file in the <font color=\"blue\">html</font> directory, you can do so by changing the <font color=\"blue\">current directory</font> to the <font color=\"blue\">html</font> directory."
      ]
    },
    {
      "cell_type": "markdown",
      "metadata": {
        "id": "e_WWvvUsqsAl",
        "colab_type": "text"
      },
      "source": [
        "![alt text](https://d2aj9sy12tbpym.cloudfront.net/progate/shared/images/slide/commandline/study/1/1505438129954.png)"
      ]
    },
    {
      "cell_type": "markdown",
      "metadata": {
        "id": "m6yKi0Arqzfs",
        "colab_type": "text"
      },
      "source": [
        "###<font color=\"orange\">cd</font>\n",
        "You can use the <font color=\"orange\">cd</font> command to move to other directories.\n",
        "\n",
        "By entering <font color=\"orange\">cd directory_name</font>, you can move to the specified directory.\n",
        "\n",
        "<font color=\"orange\">cd ..</font> is used to go to the <font color=\"blue\">Parent directory</font>."
      ]
    },
    {
      "cell_type": "markdown",
      "metadata": {
        "id": "0ClzOtarrULu",
        "colab_type": "text"
      },
      "source": [
        "![alt text](https://d2aj9sy12tbpym.cloudfront.net/progate/shared/images/slide/commandline/study/1/1505438175479.gif)"
      ]
    },
    {
      "cell_type": "code",
      "metadata": {
        "id": "vwmCK-R3rYcq",
        "colab_type": "code",
        "colab": {}
      },
      "source": [
        "!cd html\n",
        "\n",
        "# This command doesn't generate an error, but it doesn't work in Notebooks.\n",
        "# It will work on an actual system.\n",
        "# In a Notebook, working directory is fixed."
      ],
      "execution_count": null,
      "outputs": []
    },
    {
      "cell_type": "code",
      "metadata": {
        "id": "8SZEukr66gv0",
        "colab_type": "code",
        "colab": {}
      },
      "source": [
        "!cd .."
      ],
      "execution_count": null,
      "outputs": []
    },
    {
      "cell_type": "markdown",
      "metadata": {
        "id": "VxySWvtErdpe",
        "colab_type": "text"
      },
      "source": [
        "###The Current Directory\n",
        "The current directory is displayed to the left of <font color=\"orange>$</font>."
      ]
    },
    {
      "cell_type": "markdown",
      "metadata": {
        "id": "KFSFWtLVryRf",
        "colab_type": "text"
      },
      "source": [
        "![alt text](https://d2aj9sy12tbpym.cloudfront.net/progate/shared/images/slide/commandline/study/1/1505438214573.png)"
      ]
    },
    {
      "cell_type": "markdown",
      "metadata": {
        "id": "r9IMw9_0r2js",
        "colab_type": "text"
      },
      "source": [
        "###Error\n",
        "You'll get an error if you specify a <font color=\"blue\">directory that does not exist</font> with the <font color=\"orange\">cd</font> command. Also, note that you can only specify a directory name, <font color=\"blue\">not a file name</font>."
      ]
    },
    {
      "cell_type": "markdown",
      "metadata": {
        "id": "Ydw07QDqsLTf",
        "colab_type": "text"
      },
      "source": [
        "![alt text](https://d2aj9sy12tbpym.cloudfront.net/progate/shared/images/slide/commandline/study/1/1505438278389.png)"
      ]
    },
    {
      "cell_type": "markdown",
      "metadata": {
        "id": "eqtjKwDvsagh",
        "colab_type": "text"
      },
      "source": [
        "##Checking the Current Directory"
      ]
    },
    {
      "cell_type": "markdown",
      "metadata": {
        "id": "-WAd7f75sdDO",
        "colab_type": "text"
      },
      "source": [
        "###Root Directory\n",
        "In the file structure of a computer, there is a <font color=\"blue\">root directory</font> at the very top. The root directory is represented by <font color=\"orange\">/</font>."
      ]
    },
    {
      "cell_type": "markdown",
      "metadata": {
        "id": "QoRyVaKnsqrU",
        "colab_type": "text"
      },
      "source": [
        "![alt text](https://d2aj9sy12tbpym.cloudfront.net/progate/shared/images/slide/commandline/study/1/1505438359472.png)"
      ]
    },
    {
      "cell_type": "markdown",
      "metadata": {
        "id": "hIKs7Xy5s4_Z",
        "colab_type": "text"
      },
      "source": [
        "###Checking the Current Directory (<font color=\"orange\">pwd</font>)\n",
        "On the command line, it is important to know the directory you are currently working in. There is a command called <font color=\"orange\">pwd</font> to check that.\n",
        "\n",
        "When you execute the <font color=\"orange\">pwd</font> command, all directories from the root directory to the current directory are displayed.\n",
        "\n",
        "<font color=\"orange\">pwd</font> is short for <font color=\"orange\">p</font>rint <font color=\"orange\">w</font>orking <font color=\"orange\">d</font>irectory."
      ]
    },
    {
      "cell_type": "markdown",
      "metadata": {
        "id": "DgRkBfBctTG6",
        "colab_type": "text"
      },
      "source": [
        "![alt text](https://d2aj9sy12tbpym.cloudfront.net/progate/shared/images/slide/commandline/study/1/1505438448985.png)"
      ]
    },
    {
      "cell_type": "code",
      "metadata": {
        "id": "dRRdPvb0tUal",
        "colab_type": "code",
        "colab": {}
      },
      "source": [
        "!pwd"
      ],
      "execution_count": null,
      "outputs": []
    },
    {
      "cell_type": "markdown",
      "metadata": {
        "id": "p_zoZY022gUT",
        "colab_type": "text"
      },
      "source": [
        "##Displaying a list of files"
      ]
    },
    {
      "cell_type": "markdown",
      "metadata": {
        "id": "6EjRs_un2kZJ",
        "colab_type": "text"
      },
      "source": [
        "###Displaying the Content of the Directory\n",
        "When moving between directories, it would be convenient if we could see the list of files and directories in the current directory.\n",
        "To do this, you can use the <font color=\"orange\">ls</font> command."
      ]
    },
    {
      "cell_type": "code",
      "metadata": {
        "id": "2nO_QU2723ZU",
        "colab_type": "code",
        "colab": {}
      },
      "source": [
        "!ls"
      ],
      "execution_count": null,
      "outputs": []
    },
    {
      "cell_type": "markdown",
      "metadata": {
        "id": "h6XYwvGG25r8",
        "colab_type": "text"
      },
      "source": [
        "###What is displayed by <font color=\"orange\">ls</font>\n",
        "Note that the <font color=\"orange\">ls</font> command will only display the directories and files that are <font color=\"blue\">direct children</font> of the current directory."
      ]
    },
    {
      "cell_type": "markdown",
      "metadata": {
        "id": "z0YWigB73bZ2",
        "colab_type": "text"
      },
      "source": [
        "![alt text](https://d2aj9sy12tbpym.cloudfront.net/progate/shared/images/slide/commandline/study/1/150543848457.png)"
      ]
    },
    {
      "cell_type": "markdown",
      "metadata": {
        "id": "44ndhDZe3oxn",
        "colab_type": "text"
      },
      "source": [
        "##The Home Directory"
      ]
    },
    {
      "cell_type": "markdown",
      "metadata": {
        "id": "uqKlFtC54Rxm",
        "colab_type": "text"
      },
      "source": [
        "###<font color=\"orange\">cd</font> without Specifying a Directory\n",
        "If you execute <font color=\"orange\">cd</font> without specifying a directory, you can move to what is called a <font color=\"blue\">home directory</font>.\n",
        "\n",
        "The home directory is represented by <font color=\"orange\">~</font> .\n",
        "\n",
        "The <font color=\"blue\">Home Directory</font> refers to the base directory for the user. Since it is important, moving to the home directory is made to be easy."
      ]
    },
    {
      "cell_type": "markdown",
      "metadata": {
        "id": "tG55lbNu4xDv",
        "colab_type": "text"
      },
      "source": [
        "![alt text](https://d2aj9sy12tbpym.cloudfront.net/progate/shared/images/slide/commandline/study/1/1505438682550.png)"
      ]
    },
    {
      "cell_type": "markdown",
      "metadata": {
        "id": "vOGBMG-x6ko6",
        "colab_type": "text"
      },
      "source": [
        "##Moving Files and Directories"
      ]
    },
    {
      "cell_type": "markdown",
      "metadata": {
        "id": "04U2WuXE6vjK",
        "colab_type": "text"
      },
      "source": [
        "###Working with Files and Directories\n",
        "![alt text](https://d2aj9sy12tbpym.cloudfront.net/progate/shared/images/slide/commandline/study/1/1505438705841.png)"
      ]
    },
    {
      "cell_type": "markdown",
      "metadata": {
        "id": "JGmno59h66VN",
        "colab_type": "text"
      },
      "source": [
        "###Moving a File\n",
        "To do this, we use the <font color=\"orange\">mv</font> command.\n",
        "By typing <font color=\"orange\">mv file_to_move destination_directory</font>, you can move a file to the specified directory.\n",
        "\n",
        "![alt text](https://d2aj9sy12tbpym.cloudfront.net/progate/shared/images/slide/commandline/study/1/1505438870343.gif)"
      ]
    },
    {
      "cell_type": "code",
      "metadata": {
        "id": "6SxzZa-j7Oz3",
        "colab_type": "code",
        "colab": {}
      },
      "source": [
        "!mv beginner.txt html"
      ],
      "execution_count": null,
      "outputs": []
    },
    {
      "cell_type": "markdown",
      "metadata": {
        "id": "wEuqpZDD7Yu2",
        "colab_type": "text"
      },
      "source": [
        "###Moving a Directory\n",
        "With the <font color=\"orange\">mv</font> command, you can also move <font color=\"orange\">directories</font>, not just files.\n",
        "By entering <font color=\"orange\">mv directory_to_move destination_directory</font>, you can move all the files and directories under that directory.\n",
        "\n",
        "![alt text](https://d2aj9sy12tbpym.cloudfront.net/progate/shared/images/slide/commandline/study/1/1505438854746.gif)"
      ]
    },
    {
      "cell_type": "code",
      "metadata": {
        "id": "Hulbhs9m7zNm",
        "colab_type": "code",
        "colab": {}
      },
      "source": [
        "# !mv html languages"
      ],
      "execution_count": null,
      "outputs": []
    },
    {
      "cell_type": "markdown",
      "metadata": {
        "id": "Q1QFhI-F8UhA",
        "colab_type": "text"
      },
      "source": [
        "##Renaming Files and Directories\n",
        "The <font color=\"orange\">mv</font> command, which we used to move files and directories earlier, can also be used to rename a file.\n",
        "\n",
        "You can rename a file or directory by typing <font color=\"orange\">mv old_file_name new_file_name</font> or <font color=\"orange\">mv old_directory_name new_directory_name</font>.\n",
        "\n",
        "![alt text](https://d2aj9sy12tbpym.cloudfront.net/progate/shared/images/slide/commandline/study/1/1505438918935.png)"
      ]
    },
    {
      "cell_type": "code",
      "metadata": {
        "id": "5xRD0eE38rZx",
        "colab_type": "code",
        "colab": {}
      },
      "source": [
        "!touch beginner.txt\n",
        "!mv beginner.txt study.txt"
      ],
      "execution_count": null,
      "outputs": []
    },
    {
      "cell_type": "markdown",
      "metadata": {
        "id": "iw6fTfoz9GCe",
        "colab_type": "text"
      },
      "source": [
        "##Copying Files and DIrectories"
      ]
    },
    {
      "cell_type": "markdown",
      "metadata": {
        "id": "gkR6JhCx9IsM",
        "colab_type": "text"
      },
      "source": [
        "###Copying a File\n",
        "To do this, we use the <font color=\"orange\">cp</font> command.\n",
        "\n",
        "You can copy a file by entering <font color=\"orange\">cp file_to_copy new_file_name</font>.\n",
        "\n",
        "![alt text](https://d2aj9sy12tbpym.cloudfront.net/progate/shared/images/slide/commandline/study/1/1509076877574.gif)"
      ]
    },
    {
      "cell_type": "code",
      "metadata": {
        "id": "4GOQiDw49aLv",
        "colab_type": "code",
        "colab": {}
      },
      "source": [
        "!touch dojo.txt\n",
        "!cp dojo.txt project.txt"
      ],
      "execution_count": null,
      "outputs": []
    },
    {
      "cell_type": "markdown",
      "metadata": {
        "id": "CDaq_0Gz9f2x",
        "colab_type": "text"
      },
      "source": [
        "###Copying a Directory\n",
        "With the cp command, you can also copy a directory by adding the <font color=\"orange\">-r</font> (<font color=\"blue\">Recursive copy</font>) option, like <font color=\"orange\">cp -r directory_to_copy new_directory_name</font>.\n",
        "\n",
        "![alt text](https://d2aj9sy12tbpym.cloudfront.net/progate/shared/images/slide/commandline/study/1/150543904993.png)"
      ]
    },
    {
      "cell_type": "code",
      "metadata": {
        "id": "N6n6udNR92o0",
        "colab_type": "code",
        "colab": {}
      },
      "source": [
        "!mkdir HTML\n",
        "!cp -r HTML Ruby"
      ],
      "execution_count": null,
      "outputs": []
    },
    {
      "cell_type": "markdown",
      "metadata": {
        "id": "iDzBvzo7-hpX",
        "colab_type": "text"
      },
      "source": [
        "##Removing Files and Directories"
      ]
    },
    {
      "cell_type": "markdown",
      "metadata": {
        "id": "5sVAnTYF-j3b",
        "colab_type": "text"
      },
      "source": [
        "###Removing a File\n",
        "To do this, you can use the <font color=\"orange\">rm</font> command, like <font color=\"orange\">rm file_to_remove</font>."
      ]
    },
    {
      "cell_type": "code",
      "metadata": {
        "id": "7N3eU7_8-yyz",
        "colab_type": "code",
        "colab": {}
      },
      "source": [
        "!rm project.txt"
      ],
      "execution_count": null,
      "outputs": []
    },
    {
      "cell_type": "markdown",
      "metadata": {
        "id": "X8rgPrO6-7JS",
        "colab_type": "text"
      },
      "source": [
        "###Removing a Directory\n",
        "You can also remove a directory by adding the <font color=\"orange\">-r</font> option to the <font color=\"orange\">rm</font> command, like <font color=\"orange\">rm -r directory_to_remove</font>.\n",
        "\n",
        "Just like the <font color=\"orange\">cp</font> command, you will get an error if you forget to add <font color=\"orange\">-r</font>."
      ]
    },
    {
      "cell_type": "code",
      "metadata": {
        "id": "nQbbAD8e_L-K",
        "colab_type": "code",
        "colab": {}
      },
      "source": [
        "!rm -r HTML"
      ],
      "execution_count": null,
      "outputs": []
    },
    {
      "cell_type": "markdown",
      "metadata": {
        "id": "A8Zj6tIR_i8R",
        "colab_type": "text"
      },
      "source": [
        "##Review"
      ]
    },
    {
      "cell_type": "markdown",
      "metadata": {
        "id": "d0BIewex_lUw",
        "colab_type": "text"
      },
      "source": [
        "###The Commands History\n",
        "On the command line, you can go through the command history using the up arrow key <font color=\"blue\">↑</font>.\n",
        "This is very convenient when you want to use a command that was executed before."
      ]
    },
    {
      "cell_type": "markdown",
      "metadata": {
        "id": "l4m2SamWA2kK",
        "colab_type": "text"
      },
      "source": [
        "#Bonus Content (Ubuntu)\n",
        "* apt update \n",
        "  * This command is used to update the software database."
      ]
    },
    {
      "cell_type": "code",
      "metadata": {
        "id": "EE3P9e5xBfzo",
        "colab_type": "code",
        "colab": {}
      },
      "source": [
        "!sudo apt-get update\n",
        "# !apt update"
      ],
      "execution_count": null,
      "outputs": []
    },
    {
      "cell_type": "markdown",
      "metadata": {
        "id": "qvkvKepIe789",
        "colab_type": "text"
      },
      "source": [
        "* apt upgrade\n",
        "  * This command is used to update (upgrade) the softwares installed on the device"
      ]
    },
    {
      "cell_type": "code",
      "metadata": {
        "id": "uBiV1v7rBkdT",
        "colab_type": "code",
        "colab": {}
      },
      "source": [
        "!sudo apt-get upgrade -y\n",
        "# !apt upgrade -y"
      ],
      "execution_count": null,
      "outputs": []
    },
    {
      "cell_type": "markdown",
      "metadata": {
        "id": "cfGAj39Fe-iu",
        "colab_type": "text"
      },
      "source": [
        "* apt autoremove\n",
        "  * This command is used to automatically uninstall unused or residual dependencies."
      ]
    },
    {
      "cell_type": "code",
      "metadata": {
        "id": "9ZOn-6w-Bz8y",
        "colab_type": "code",
        "colab": {}
      },
      "source": [
        "!sudo apt autoremove -y\n",
        "# !apt autoremove -y"
      ],
      "execution_count": null,
      "outputs": []
    },
    {
      "cell_type": "markdown",
      "metadata": {
        "id": "snhszi94fCqW",
        "colab_type": "text"
      },
      "source": [
        "* apt autoclean\n",
        "  * This command is used to get rid of residual setup files."
      ]
    },
    {
      "cell_type": "code",
      "metadata": {
        "id": "qAc0FIL8B_M1",
        "colab_type": "code",
        "colab": {}
      },
      "source": [
        "!sudo apt autoclean"
      ],
      "execution_count": null,
      "outputs": []
    },
    {
      "cell_type": "markdown",
      "metadata": {
        "id": "Cdu0EGyTfIQ5",
        "colab_type": "text"
      },
      "source": [
        " * apt install `package-name`\n",
        "   * This command is used to install a specific package"
      ]
    },
    {
      "cell_type": "code",
      "metadata": {
        "id": "n5OdS2EceMXb",
        "colab_type": "code",
        "colab": {}
      },
      "source": [
        "!apt install neofetch screenfetch"
      ],
      "execution_count": null,
      "outputs": []
    },
    {
      "cell_type": "code",
      "metadata": {
        "id": "P-PKryqofaXe",
        "colab_type": "code",
        "colab": {}
      },
      "source": [
        "!screenfetch"
      ],
      "execution_count": null,
      "outputs": []
    },
    {
      "cell_type": "code",
      "metadata": {
        "id": "xNHrm191fcc0",
        "colab_type": "code",
        "colab": {}
      },
      "source": [
        "!neofetch"
      ],
      "execution_count": null,
      "outputs": []
    },
    {
      "cell_type": "markdown",
      "metadata": {
        "id": "qBbo3SS2Qf_4",
        "colab_type": "text"
      },
      "source": [
        "##Missing grub error: Fixed"
      ]
    },
    {
      "cell_type": "code",
      "metadata": {
        "id": "NhyFtyzdQu-8",
        "colab_type": "code",
        "colab": {}
      },
      "source": [
        "# $ sudo apt-get install mdadm\n",
        "# $ sudo fdisk -l\n",
        "# $ sudo blkid\n",
        "# $ df -Th\n",
        "# $ sudo mount /dev/sda1 /mnt\n",
        "# $ for i in /dev /dev/pts /proc /sys /run; do sudo mount -B $i /mnt$i; done\n",
        "# $ sudo chroot /mnt\n",
        "# - grub-install /dev/sda\n",
        "# - update-grub\n",
        "# //CTRL-D on keyboard.\n",
        "# $ sudo reboot\n",
        "\n",
        "# //After reboot\n",
        "# $ sudo update-grub\n",
        "# $ grub-probe -t device /boot/grub\n",
        "# $ sudo grub-install /dev/sda\n",
        "\n",
        "# //Afterwards, optional\n",
        "# $ sudo apt-get update\n",
        "# $ sudo apt-get upgrade\n",
        "# $ sudo apt autoremove\n",
        "# $ sudo apt-autoclean\n",
        "# $ reboot"
      ],
      "execution_count": null,
      "outputs": []
    }
  ]
}